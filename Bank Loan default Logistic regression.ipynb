{
 "cells": [
  {
   "cell_type": "code",
   "execution_count": 25,
   "id": "8c7c9c68",
   "metadata": {},
   "outputs": [],
   "source": [
    "import pandas as pd\n",
    "import numpy as np\n",
    "import os"
   ]
  },
  {
   "cell_type": "code",
   "execution_count": 26,
   "id": "e0fbb183",
   "metadata": {},
   "outputs": [],
   "source": [
    "os.chdir('P:\\\\Data Sciece and machine learning projects\\\\DataSets\\\\Bank_default')"
   ]
  },
  {
   "cell_type": "code",
   "execution_count": 27,
   "id": "21ea61dc",
   "metadata": {},
   "outputs": [],
   "source": [
    "inputs=pd.read_csv('inputs_preprocessed.csv')\n",
    "targets=pd.read_csv('targets.csv')"
   ]
  },
  {
   "cell_type": "code",
   "execution_count": 28,
   "id": "7a1f5d4a",
   "metadata": {},
   "outputs": [],
   "source": [
    "inputs.drop('Unnamed: 0', axis=1, inplace=True)"
   ]
  },
  {
   "cell_type": "code",
   "execution_count": 29,
   "id": "4234e1cb",
   "metadata": {},
   "outputs": [],
   "source": [
    "targets.drop('Unnamed: 0', axis=1, inplace=True)"
   ]
  },
  {
   "cell_type": "code",
   "execution_count": 30,
   "id": "ab550d9d",
   "metadata": {},
   "outputs": [],
   "source": [
    "from sklearn.model_selection import train_test_split\n",
    "xtrain,xtest,ytrain,ytest=train_test_split(inputs, targets,test_size=0.2,random_state=0)"
   ]
  },
  {
   "cell_type": "code",
   "execution_count": 31,
   "id": "c4097209",
   "metadata": {},
   "outputs": [],
   "source": [
    "from sklearn.linear_model import LogisticRegression\n",
    "LR=LogisticRegression(solver='saga', penalty='l2')"
   ]
  },
  {
   "cell_type": "markdown",
   "id": "0eb08a5f",
   "metadata": {},
   "source": [
    "The SAGA solver is a variant of SAG that also supports both L2 and L1 regularisation. This is therefore the solver of choice for sparse multinomial logistic regression and it’s also suitable for very Large dataset."
   ]
  },
  {
   "cell_type": "code",
   "execution_count": 32,
   "id": "c07ae352",
   "metadata": {},
   "outputs": [
    {
     "name": "stderr",
     "output_type": "stream",
     "text": [
      "C:\\Users\\saksh\\anaconda3\\lib\\site-packages\\sklearn\\utils\\validation.py:993: DataConversionWarning: A column-vector y was passed when a 1d array was expected. Please change the shape of y to (n_samples, ), for example using ravel().\n",
      "  y = column_or_1d(y, warn=True)\n",
      "C:\\Users\\saksh\\anaconda3\\lib\\site-packages\\sklearn\\linear_model\\_sag.py:352: ConvergenceWarning: The max_iter was reached which means the coef_ did not converge\n",
      "  warnings.warn(\n"
     ]
    },
    {
     "data": {
      "text/plain": [
       "LogisticRegression(solver='saga')"
      ]
     },
     "execution_count": 32,
     "metadata": {},
     "output_type": "execute_result"
    }
   ],
   "source": [
    "LR.fit(xtrain,ytrain)"
   ]
  },
  {
   "cell_type": "code",
   "execution_count": 33,
   "id": "2cde7710",
   "metadata": {},
   "outputs": [],
   "source": [
    "pred_lr=LR.predict(xtest)"
   ]
  },
  {
   "cell_type": "code",
   "execution_count": 34,
   "id": "7f0c91fa",
   "metadata": {},
   "outputs": [
    {
     "name": "stdout",
     "output_type": "stream",
     "text": [
      "              precision    recall  f1-score   support\n",
      "\n",
      "           0       0.75      0.85      0.80      1236\n",
      "           1       0.83      0.73      0.78      1261\n",
      "\n",
      "    accuracy                           0.79      2497\n",
      "   macro avg       0.79      0.79      0.79      2497\n",
      "weighted avg       0.79      0.79      0.79      2497\n",
      "\n"
     ]
    }
   ],
   "source": [
    "from sklearn.metrics import classification_report\n",
    "print(classification_report(ytest,pred_lr))"
   ]
  },
  {
   "cell_type": "code",
   "execution_count": null,
   "id": "48a9160a",
   "metadata": {},
   "outputs": [],
   "source": []
  },
  {
   "cell_type": "code",
   "execution_count": null,
   "id": "374bd974",
   "metadata": {},
   "outputs": [],
   "source": []
  }
 ],
 "metadata": {
  "kernelspec": {
   "display_name": "Python 3 (ipykernel)",
   "language": "python",
   "name": "python3"
  },
  "language_info": {
   "codemirror_mode": {
    "name": "ipython",
    "version": 3
   },
   "file_extension": ".py",
   "mimetype": "text/x-python",
   "name": "python",
   "nbconvert_exporter": "python",
   "pygments_lexer": "ipython3",
   "version": "3.9.12"
  }
 },
 "nbformat": 4,
 "nbformat_minor": 5
}
